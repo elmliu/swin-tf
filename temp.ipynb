{
 "cells": [
  {
   "cell_type": "code",
   "execution_count": 1,
   "metadata": {},
   "outputs": [],
   "source": [
    "import zipfile\n",
    "import os, io\n",
    "import numpy as np\n",
    "from glob import glob\n",
    "import pickle\n",
    "import matplotlib.pyplot as plt\n",
    "\n",
    "def unpickle(file):\n",
    "    \"\"\"\n",
    "        Read downsampled 64*64 ImageNet data. Refer to: https://patrykchrabaszcz.github.io/Imagenet32/\n",
    "        Return (dict): keys: ['data', 'labels', 'mean'], \n",
    "                    One file with validation data (“val_data”) contains python dictionary with fields 'data' and 'labels' (There is no 'mean' field)\n",
    "    \"\"\"\n",
    "    with open(file, 'rb') as fo:\n",
    "        dict = pickle.load(fo)\n",
    "    return dict"
   ]
  },
  {
   "cell_type": "code",
   "execution_count": 3,
   "metadata": {},
   "outputs": [
    {
     "name": "stdout",
     "output_type": "stream",
     "text": [
      "/data/ljc/datasets/imagenet64/train/train_data_batch_1\n"
     ]
    }
   ],
   "source": [
    "# Calculate mean value among all training data\n",
    "for f in sorted(glob('/data/ljc/datasets/imagenet64/train' + '/*')):\n",
    "    print(f)\n",
    "    dic = unpickle(f)\n",
    "    mean_val = dic['mean']\n",
    "    break\n",
    "mean_val /= np.float32(255)"
   ]
  },
  {
   "cell_type": "code",
   "execution_count": 4,
   "metadata": {},
   "outputs": [
    {
     "name": "stdout",
     "output_type": "stream",
     "text": [
      "[0.46454885 0.46888116 0.47197611 ... 0.39271004 0.39108653 0.38879286]\n"
     ]
    }
   ],
   "source": [
    "print(mean_val)"
   ]
  },
  {
   "cell_type": "code",
   "execution_count": 14,
   "metadata": {},
   "outputs": [
    {
     "name": "stdout",
     "output_type": "stream",
     "text": [
      "/data/ljc/datasets/imagenet64/train/train_data_batch_3\n",
      "[[[130 136 141 ... 150 138 128]\n",
      "  [134 142 144 ... 159 145 133]\n",
      "  [137 143 146 ... 158 148 135]\n",
      "  ...\n",
      "  [152 151 149 ... 169 167 166]\n",
      "  [151 156 156 ... 170 167 165]\n",
      "  [155 159 161 ... 169 165 162]]\n",
      "\n",
      " [[136 144 151 ... 161 147 136]\n",
      "  [143 152 157 ... 168 154 140]\n",
      "  [146 154 158 ... 171 160 144]\n",
      "  ...\n",
      "  [159 158 159 ... 171 170 168]\n",
      "  [162 162 163 ... 171 168 165]\n",
      "  [163 164 167 ... 172 168 165]]\n",
      "\n",
      " [[127 146 156 ... 170 145 126]\n",
      "  [137 154 162 ... 179 158 132]\n",
      "  [143 158 163 ... 182 165 140]\n",
      "  ...\n",
      "  [159 157 156 ... 170 168 164]\n",
      "  [161 161 162 ... 171 167 166]\n",
      "  [160 163 166 ... 173 169 165]]]\n",
      "[[[130 136 141 ... 150 138 128]\n",
      "  [134 142 144 ... 159 145 133]\n",
      "  [137 143 146 ... 158 148 135]\n",
      "  ...\n",
      "  [152 151 149 ... 169 167 166]\n",
      "  [151 156 156 ... 170 167 165]\n",
      "  [155 159 161 ... 169 165 162]]\n",
      "\n",
      " [[136 144 151 ... 161 147 136]\n",
      "  [143 152 157 ... 168 154 140]\n",
      "  [146 154 158 ... 171 160 144]\n",
      "  ...\n",
      "  [159 158 159 ... 171 170 168]\n",
      "  [162 162 163 ... 171 168 165]\n",
      "  [163 164 167 ... 172 168 165]]\n",
      "\n",
      " [[127 146 156 ... 170 145 126]\n",
      "  [137 154 162 ... 179 158 132]\n",
      "  [143 158 163 ... 182 165 140]\n",
      "  ...\n",
      "  [159 157 156 ... 170 168 164]\n",
      "  [161 161 162 ... 171 167 166]\n",
      "  [160 163 166 ... 173 169 165]]]\n",
      "True\n"
     ]
    }
   ],
   "source": [
    "fname = sorted(glob('/data/ljc/datasets/imagenet64/train' + '/*'))[3]\n",
    "print(fname)\n",
    "dic_file = unpickle(fname)\n",
    "data = dic_file['data'][12]\n",
    "\n",
    "a = data.reshape(3,64,64)\n",
    "b = transform_to_rgb(data)\n",
    "print(a)\n",
    "print(b)\n",
    "\n",
    "print(np.array_equal(a, b))\n",
    "\n"
   ]
  },
  {
   "cell_type": "code",
   "execution_count": 15,
   "metadata": {},
   "outputs": [
    {
     "name": "stdout",
     "output_type": "stream",
     "text": [
      "Processing /data/ljc/datasets/imagenet64/val/val_data\n"
     ]
    }
   ],
   "source": [
    "\"\"\"\n",
    "    Read batch data and save each image to .npy files\n",
    "\"\"\"\n",
    "\n",
    "# read a line from the file and transform it into RGB image\n",
    "def transform_to_rgb(x):\n",
    "    # red_channel = data[:4096].reshape(64, 64)\n",
    "    # green_channel = data[4096:8192].reshape(64, 64)\n",
    "    # blue_channel = data[8192:].reshape(64, 64)\n",
    "\n",
    "    # # merge channels\n",
    "    # rgb_image = np.dstack((red_channel, green_channel, blue_channel))\n",
    "    # return rgb_image\n",
    "    \n",
    "    img_size = 64\n",
    "    img_size2 = img_size * img_size\n",
    "    \n",
    "    x = np.dstack((x[:img_size2], x[img_size2:2*img_size2], x[2*img_size2:]))\n",
    "    x = x.reshape((img_size, img_size, 3)).transpose(2, 0, 1)\n",
    "    return x\n",
    "    \n",
    "    # return data.reshape(3, 64, 64)\n",
    "    \n",
    "split = ['train', 'val']\n",
    "sp = split[1]\n",
    "\n",
    "folder = '/data/ljc/datasets/imagenet64/' + sp\n",
    "out_folder = '/data/ljc/datasets/imagenet64/processed/' + sp\n",
    "label_file = open(out_folder + '/labels.txt', 'w')\n",
    "\n",
    "cnt = 0\n",
    "for f in sorted(glob(folder + '/*')):\n",
    "    print('Processing', f)\n",
    "    \n",
    "    dic = unpickle(f)\n",
    "    \n",
    "    for i in range(len(dic['data'])):\n",
    "        data = dic['data'][i] / np.float32(255) - mean_val\n",
    "        rgb_array = transform_to_rgb(data)       # scale to [0,1]. remove mean value, as suggested by https://patrykchrabaszcz.github.io/Imagenet32/\n",
    "        np.save(f'{out_folder}/{cnt}.npy', rgb_array)\n",
    "        \n",
    "        label_file.write(str(dic['labels'][i]) + '\\n')\n",
    "\n",
    "        cnt += 1\n",
    "        \n",
    "label_file.close()"
   ]
  },
  {
   "cell_type": "code",
   "execution_count": 20,
   "metadata": {},
   "outputs": [],
   "source": [
    "from datahelpers import *\n",
    "\n",
    "train_dataset = ImageNet64(data_dir=config.imagenet_root + '/train')\n",
    "val_dataset = ImageNet64(data_dir=config.imagenet_root + '/val')"
   ]
  },
  {
   "cell_type": "code",
   "execution_count": 33,
   "metadata": {},
   "outputs": [
    {
     "data": {
      "text/plain": [
       "1"
      ]
     },
     "execution_count": 33,
     "metadata": {},
     "output_type": "execute_result"
    }
   ],
   "source": [
    "min(train_dataset.labels)"
   ]
  }
 ],
 "metadata": {
  "kernelspec": {
   "display_name": "Python 3",
   "language": "python",
   "name": "python3"
  },
  "language_info": {
   "codemirror_mode": {
    "name": "ipython",
    "version": 3
   },
   "file_extension": ".py",
   "mimetype": "text/x-python",
   "name": "python",
   "nbconvert_exporter": "python",
   "pygments_lexer": "ipython3",
   "version": "3.12.1"
  }
 },
 "nbformat": 4,
 "nbformat_minor": 2
}
