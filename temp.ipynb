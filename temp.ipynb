{
 "cells": [
  {
   "cell_type": "code",
   "execution_count": 2,
   "metadata": {},
   "outputs": [],
   "source": [
    "import zipfile\n",
    "import os, io\n",
    "import numpy as np\n",
    "from glob import glob\n",
    "import pickle\n",
    "import matplotlib.pyplot as plt\n",
    "\n",
    "def unpickle(file):\n",
    "    \"\"\"\n",
    "        Read downsampled 64*64 ImageNet data. Refer to: https://patrykchrabaszcz.github.io/Imagenet32/\n",
    "        Return (dict): keys: ['data', 'labels', 'mean'], \n",
    "                    One file with validation data (“val_data”) contains python dictionary with fields 'data' and 'labels' (There is no 'mean' field)\n",
    "    \"\"\"\n",
    "    with open(file, 'rb') as fo:\n",
    "        dict = pickle.load(fo)\n",
    "    return dict"
   ]
  },
  {
   "cell_type": "code",
   "execution_count": 9,
   "metadata": {},
   "outputs": [
    {
     "name": "stdout",
     "output_type": "stream",
     "text": [
      "/data/ljc/datasets/imagenet64/train/train_data_batch_1\n"
     ]
    }
   ],
   "source": [
    "# Calculate mean value among all training data\n",
    "for f in sorted(glob('/data/ljc/datasets/imagenet64/train' + '/*')):\n",
    "    print(f)\n",
    "    dic = unpickle(f)\n",
    "    mean_val = dic['mean']\n",
    "    break\n",
    "mean_val /= 255.0"
   ]
  },
  {
   "cell_type": "code",
   "execution_count": 10,
   "metadata": {},
   "outputs": [
    {
     "name": "stdout",
     "output_type": "stream",
     "text": [
      "[0.46454885 0.46888116 0.47197611 ... 0.39271004 0.39108653 0.38879286]\n"
     ]
    }
   ],
   "source": [
    "print(mean_val)"
   ]
  },
  {
   "cell_type": "code",
   "execution_count": 13,
   "metadata": {},
   "outputs": [
    {
     "name": "stdout",
     "output_type": "stream",
     "text": [
      "Processing /data/ljc/datasets/imagenet64/val/val_data\n"
     ]
    }
   ],
   "source": [
    "\"\"\"\n",
    "    Read batch data and save each image to .npy files\n",
    "\"\"\"\n",
    "\n",
    "# read a line from the file and transform it into RGB image\n",
    "def transform_to_rgb(data):\n",
    "    # red_channel = data[:4096].reshape(64, 64)\n",
    "    # green_channel = data[4096:8192].reshape(64, 64)\n",
    "    # blue_channel = data[8192:].reshape(64, 64)\n",
    "\n",
    "    # # merge channels\n",
    "    # rgb_image = np.dstack((red_channel, green_channel, blue_channel))\n",
    "    # return rgb_image\n",
    "    return data.reshape(3, 64, 64)\n",
    "    \n",
    "split = ['train', 'val']\n",
    "sp = split[1]\n",
    "\n",
    "folder = '/data/ljc/datasets/imagenet64/' + sp\n",
    "out_folder = '/data/ljc/datasets/imagenet64/processed/' + sp\n",
    "label_file = open(out_folder + '/labels.txt', 'w')\n",
    "\n",
    "cnt = 0\n",
    "for f in sorted(glob(folder + '/*')):\n",
    "    print('Processing', f)\n",
    "    \n",
    "    dic = unpickle(f)\n",
    "    \n",
    "    for i in range(len(dic['data'])):\n",
    "        data = dic['data'][i] / 255.0 - mean_val\n",
    "        rgb_array = transform_to_rgb(data)       # scale to [0,1]. remove mean value, as suggested by https://patrykchrabaszcz.github.io/Imagenet32/\n",
    "        np.save(f'{out_folder}/{cnt}.npy', rgb_array)\n",
    "        \n",
    "        label_file.write(str(dic['labels'][i]) + '\\n')\n",
    "\n",
    "        cnt += 1\n",
    "        \n",
    "label_file.close()"
   ]
  },
  {
   "cell_type": "code",
   "execution_count": 20,
   "metadata": {},
   "outputs": [],
   "source": [
    "from datahelpers import *\n",
    "\n",
    "train_dataset = ImageNet64(data_dir=config.imagenet_root + '/train')\n",
    "val_dataset = ImageNet64(data_dir=config.imagenet_root + '/val')"
   ]
  },
  {
   "cell_type": "code",
   "execution_count": 33,
   "metadata": {},
   "outputs": [
    {
     "data": {
      "text/plain": [
       "1"
      ]
     },
     "execution_count": 33,
     "metadata": {},
     "output_type": "execute_result"
    }
   ],
   "source": [
    "min(train_dataset.labels)"
   ]
  }
 ],
 "metadata": {
  "kernelspec": {
   "display_name": "Python 3",
   "language": "python",
   "name": "python3"
  },
  "language_info": {
   "codemirror_mode": {
    "name": "ipython",
    "version": 3
   },
   "file_extension": ".py",
   "mimetype": "text/x-python",
   "name": "python",
   "nbconvert_exporter": "python",
   "pygments_lexer": "ipython3",
   "version": "3.12.1"
  }
 },
 "nbformat": 4,
 "nbformat_minor": 2
}
