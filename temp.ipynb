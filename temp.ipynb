{
 "cells": [
  {
   "cell_type": "code",
   "execution_count": 3,
   "metadata": {},
   "outputs": [],
   "source": [
    "import zipfile\n",
    "import os, io\n",
    "import numpy as np\n",
    "from glob import glob\n",
    "import pickle\n",
    "import matplotlib.pyplot as plt\n",
    "\n",
    "def unpickle(file):\n",
    "    \"\"\"\n",
    "        Read downsampled 64*64 ImageNet data. Refer to: https://patrykchrabaszcz.github.io/Imagenet32/\n",
    "        Return (dict): keys: ['data', 'labels', 'mean'], \n",
    "                    One file with validation data (“val_data”) contains python dictionary with fields 'data' and 'labels' (There is no 'mean' field)\n",
    "    \"\"\"\n",
    "    with open(file, 'rb') as fo:\n",
    "        dict = pickle.load(fo)\n",
    "    return dict"
   ]
  },
  {
   "cell_type": "code",
   "execution_count": 16,
   "metadata": {},
   "outputs": [
    {
     "name": "stdout",
     "output_type": "stream",
     "text": [
      "/data/ljc/datasets/imagenet64/train/train_data_batch_1\n"
     ]
    }
   ],
   "source": [
    "# Calculate mean value among all training data\n",
    "for f in sorted(glob('/data/ljc/datasets/imagenet64/train' + '/*')):\n",
    "    print(f)\n",
    "    dic = unpickle(f)\n",
    "    mean_val = dic['mean']\n",
    "    break\n",
    "mean_val /= 255.0"
   ]
  },
  {
   "cell_type": "code",
   "execution_count": 15,
   "metadata": {},
   "outputs": [
    {
     "name": "stdout",
     "output_type": "stream",
     "text": [
      "[118.45995643 119.56469453 120.35390702 ... 100.14106046  99.72706603\n",
      "  99.14217975]\n"
     ]
    }
   ],
   "source": [
    "print(mean_val)"
   ]
  },
  {
   "cell_type": "code",
   "execution_count": 17,
   "metadata": {},
   "outputs": [
    {
     "name": "stdout",
     "output_type": "stream",
     "text": [
      "Processing /data/ljc/datasets/imagenet64/val/val_data\n"
     ]
    }
   ],
   "source": [
    "\"\"\"\n",
    "    Read batch data and save each image to .npy files\n",
    "\"\"\"\n",
    "\n",
    "# read a line from the file and transform it into RGB image\n",
    "def transform_to_rgb(data):\n",
    "    red_channel = data[:4096].reshape(64, 64)\n",
    "    green_channel = data[4096:8192].reshape(64, 64)\n",
    "    blue_channel = data[8192:].reshape(64, 64)\n",
    "\n",
    "    # merge channels\n",
    "    rgb_image = np.dstack((red_channel, green_channel, blue_channel))\n",
    "    return rgb_image\n",
    "    \n",
    "split = ['train', 'val']\n",
    "sp = split[1]\n",
    "folder = '/data/ljc/datasets/imagenet64/' + sp\n",
    "out_folder = '/data/ljc/datasets/imagenet64/processed/' + sp\n",
    "label_file = open(out_folder + '/labels.txt', 'w')\n",
    "\n",
    "cnt = 0\n",
    "for f in sorted(glob(folder + '/*')):\n",
    "    print('Processing', f)\n",
    "    \n",
    "    dic = unpickle(f)\n",
    "    \n",
    "    for i in range(len(dic['data'])):\n",
    "        data = dic['data'][i] / 255.0 - mean_val\n",
    "        rgb_array = transform_to_rgb(data)       # scale to [0,1]. remove mean value, as suggested by https://patrykchrabaszcz.github.io/Imagenet32/\n",
    "        np.save(f'{out_folder}/{cnt}.npy', rgb_array)\n",
    "        \n",
    "        label_file.write(str(dic['labels'][i]) + '\\n')\n",
    "\n",
    "        cnt += 1\n",
    "        \n",
    "label_file.close()"
   ]
  }
 ],
 "metadata": {
  "kernelspec": {
   "display_name": "Python 3",
   "language": "python",
   "name": "python3"
  },
  "language_info": {
   "codemirror_mode": {
    "name": "ipython",
    "version": 3
   },
   "file_extension": ".py",
   "mimetype": "text/x-python",
   "name": "python",
   "nbconvert_exporter": "python",
   "pygments_lexer": "ipython3",
   "version": "3.12.1"
  }
 },
 "nbformat": 4,
 "nbformat_minor": 2
}
