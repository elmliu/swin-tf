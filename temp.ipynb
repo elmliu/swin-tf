{
 "cells": [
  {
   "cell_type": "code",
   "execution_count": 3,
   "metadata": {},
   "outputs": [],
   "source": [
    "import zipfile\n",
    "import os, io\n",
    "import numpy as np\n",
    "from glob import glob\n",
    "import pickle\n",
    "import matplotlib.pyplot as plt\n",
    "\n",
    "def unpickle(file):\n",
    "    \"\"\"\n",
    "        Read downsampled 64*64 ImageNet data. Refer to: https://patrykchrabaszcz.github.io/Imagenet32/\n",
    "        Return (dict): keys: ['data', 'labels', 'mean'], \n",
    "                    One file with validation data (“val_data”) contains python dictionary with fields 'data' and 'labels' (There is no 'mean' field)\n",
    "    \"\"\"\n",
    "    with open(file, 'rb') as fo:\n",
    "        dict = pickle.load(fo)\n",
    "    return dict"
   ]
  },
  {
   "cell_type": "code",
   "execution_count": 16,
   "metadata": {},
   "outputs": [
    {
     "name": "stdout",
     "output_type": "stream",
     "text": [
      "/data/ljc/datasets/imagenet64/train/train_data_batch_1\n"
     ]
    }
   ],
   "source": [
    "# Calculate mean value among all training data\n",
    "for f in sorted(glob('/data/ljc/datasets/imagenet64/train' + '/*')):\n",
    "    print(f)\n",
    "    dic = unpickle(f)\n",
    "    mean_val = dic['mean']\n",
    "    break\n",
    "mean_val /= 255.0"
   ]
  },
  {
   "cell_type": "code",
   "execution_count": 15,
   "metadata": {},
   "outputs": [
    {
     "name": "stdout",
     "output_type": "stream",
     "text": [
      "[118.45995643 119.56469453 120.35390702 ... 100.14106046  99.72706603\n",
      "  99.14217975]\n"
     ]
    }
   ],
   "source": [
    "print(mean_val)"
   ]
  },
  {
   "cell_type": "code",
   "execution_count": 17,
   "metadata": {},
   "outputs": [
    {
     "name": "stdout",
     "output_type": "stream",
     "text": [
      "Processing /data/ljc/datasets/imagenet64/val/val_data\n"
     ]
    }
   ],
   "source": [
    "\"\"\"\n",
    "    Read batch data and save each image to .npy files\n",
    "\"\"\"\n",
    "\n",
    "# read a line from the file and transform it into RGB image\n",
    "def transform_to_rgb(data):\n",
    "    red_channel = data[:4096].reshape(64, 64)\n",
    "    green_channel = data[4096:8192].reshape(64, 64)\n",
    "    blue_channel = data[8192:].reshape(64, 64)\n",
    "\n",
    "    # merge channels\n",
    "    rgb_image = np.dstack((red_channel, green_channel, blue_channel))\n",
    "    return rgb_image\n",
    "    \n",
    "split = ['train', 'val']\n",
    "sp = split[1]\n",
    "folder = '/data/ljc/datasets/imagenet64/' + sp\n",
    "out_folder = '/data/ljc/datasets/imagenet64/processed/' + sp\n",
    "label_file = open(out_folder + '/labels.txt', 'w')\n",
    "\n",
    "cnt = 0\n",
    "for f in sorted(glob(folder + '/*')):\n",
    "    print('Processing', f)\n",
    "    \n",
    "    dic = unpickle(f)\n",
    "    \n",
    "    for i in range(len(dic['data'])):\n",
    "        data = dic['data'][i] / 255.0 - mean_val\n",
    "        rgb_array = transform_to_rgb(data)       # scale to [0,1]. remove mean value, as suggested by https://patrykchrabaszcz.github.io/Imagenet32/\n",
    "        np.save(f'{out_folder}/{cnt}.npy', rgb_array)\n",
    "        \n",
    "        label_file.write(str(dic['labels'][i]) + '\\n')\n",
    "\n",
    "        cnt += 1\n",
    "        \n",
    "label_file.close()"
   ]
  },
  {
   "cell_type": "code",
   "execution_count": 20,
   "metadata": {},
   "outputs": [],
   "source": [
    "from datahelpers import *\n",
    "\n",
    "train_dataset = ImageNet64(data_dir=config.imagenet_root + '/train')\n",
    "val_dataset = ImageNet64(data_dir=config.imagenet_root + '/val')"
   ]
  },
  {
   "cell_type": "code",
   "execution_count": 30,
   "metadata": {},
   "outputs": [
    {
     "data": {
      "text/plain": [
       "['87.npy',\n",
       " '88.npy',\n",
       " '89.npy',\n",
       " '90.npy',\n",
       " '91.npy',\n",
       " '92.npy',\n",
       " '93.npy',\n",
       " '94.npy',\n",
       " '95.npy',\n",
       " '96.npy',\n",
       " '97.npy',\n",
       " '98.npy',\n",
       " '99.npy',\n",
       " '100.npy',\n",
       " '101.npy',\n",
       " '102.npy',\n",
       " '103.npy',\n",
       " '104.npy',\n",
       " '105.npy',\n",
       " '106.npy',\n",
       " '107.npy',\n",
       " '108.npy',\n",
       " '109.npy',\n",
       " '110.npy',\n",
       " '111.npy',\n",
       " '112.npy',\n",
       " '113.npy',\n",
       " '114.npy',\n",
       " '115.npy',\n",
       " '116.npy',\n",
       " '117.npy',\n",
       " '118.npy',\n",
       " '119.npy',\n",
       " '120.npy',\n",
       " '121.npy',\n",
       " '122.npy',\n",
       " '123.npy',\n",
       " '124.npy',\n",
       " '125.npy',\n",
       " '126.npy',\n",
       " '127.npy',\n",
       " '128.npy',\n",
       " '129.npy',\n",
       " '130.npy',\n",
       " '131.npy',\n",
       " '132.npy',\n",
       " '133.npy',\n",
       " '134.npy',\n",
       " '135.npy',\n",
       " '136.npy',\n",
       " '137.npy',\n",
       " '138.npy',\n",
       " '139.npy',\n",
       " '140.npy',\n",
       " '141.npy',\n",
       " '142.npy',\n",
       " '143.npy',\n",
       " '144.npy',\n",
       " '145.npy',\n",
       " '146.npy',\n",
       " '147.npy',\n",
       " '148.npy',\n",
       " '149.npy',\n",
       " '150.npy',\n",
       " '151.npy',\n",
       " '152.npy',\n",
       " '153.npy',\n",
       " '154.npy',\n",
       " '155.npy',\n",
       " '156.npy',\n",
       " '157.npy',\n",
       " '158.npy',\n",
       " '159.npy',\n",
       " '160.npy',\n",
       " '161.npy',\n",
       " '162.npy',\n",
       " '163.npy',\n",
       " '164.npy',\n",
       " '165.npy',\n",
       " '166.npy',\n",
       " '167.npy',\n",
       " '168.npy',\n",
       " '169.npy',\n",
       " '170.npy',\n",
       " '171.npy',\n",
       " '172.npy',\n",
       " '173.npy',\n",
       " '174.npy',\n",
       " '175.npy',\n",
       " '176.npy',\n",
       " '177.npy',\n",
       " '178.npy',\n",
       " '179.npy',\n",
       " '180.npy',\n",
       " '181.npy',\n",
       " '182.npy',\n",
       " '183.npy',\n",
       " '184.npy',\n",
       " '185.npy',\n",
       " '186.npy']"
      ]
     },
     "execution_count": 30,
     "metadata": {},
     "output_type": "execute_result"
    }
   ],
   "source": [
    "train_dataset.image_files[87:187]"
   ]
  }
 ],
 "metadata": {
  "kernelspec": {
   "display_name": "Python 3",
   "language": "python",
   "name": "python3"
  },
  "language_info": {
   "codemirror_mode": {
    "name": "ipython",
    "version": 3
   },
   "file_extension": ".py",
   "mimetype": "text/x-python",
   "name": "python",
   "nbconvert_exporter": "python",
   "pygments_lexer": "ipython3",
   "version": "3.12.1"
  }
 },
 "nbformat": 4,
 "nbformat_minor": 2
}
